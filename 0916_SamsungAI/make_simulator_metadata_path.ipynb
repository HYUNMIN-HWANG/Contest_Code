{
 "cells": [
  {
   "cell_type": "code",
   "execution_count": 1,
   "metadata": {},
   "outputs": [
    {
     "name": "stderr",
     "output_type": "stream",
     "text": [
      "c:\\Users\\user\\anaconda3\\envs\\pytorch\\lib\\site-packages\\tqdm\\auto.py:22: TqdmWarning: IProgress not found. Please update jupyter and ipywidgets. See https://ipywidgets.readthedocs.io/en/stable/user_install.html\n",
      "  from .autonotebook import tqdm as notebook_tqdm\n"
     ]
    }
   ],
   "source": [
    "import os\n",
    "import numpy as np\n",
    "import torch\n",
    "from skimage import transform\n",
    "import matplotlib.pyplot as plt\n",
    "import pandas as pd\n",
    "import glob"
   ]
  },
  {
   "cell_type": "code",
   "execution_count": 2,
   "metadata": {},
   "outputs": [],
   "source": [
    "data_dir = 'D://Data//3D_Metrology//simulation_data/'\n",
    "depth_dir = data_dir + '/Depth//Case_'\n",
    "sem_dir = data_dir + '/SEM//Case_'\n",
    "case_list = ['1', '2', '3', '4']\n",
    "category_list = ['//80', '//81', '//82', '//83', '//84']"
   ]
  },
  {
   "cell_type": "markdown",
   "metadata": {},
   "source": [
    "simulator > SEM 에 있는 이미지 list"
   ]
  },
  {
   "cell_type": "code",
   "execution_count": 3,
   "metadata": {},
   "outputs": [],
   "source": [
    "lst_data = pd.read_csv(data_dir+\"simulation_meta_2.csv\")"
   ]
  },
  {
   "cell_type": "code",
   "execution_count": 4,
   "metadata": {},
   "outputs": [
    {
     "data": {
      "text/plain": [
       "Depth    D://Data//3D_Metrology//simulation_data//Depth...\n",
       "SEM      D://Data//3D_Metrology//simulation_data//SEM//...\n",
       "Name: 0, dtype: object"
      ]
     },
     "execution_count": 4,
     "metadata": {},
     "output_type": "execute_result"
    }
   ],
   "source": [
    "lst_data.iloc[0]"
   ]
  },
  {
   "cell_type": "code",
   "execution_count": 5,
   "metadata": {},
   "outputs": [
    {
     "data": {
      "text/plain": [
       "'D://Data//3D_Metrology//simulation_data//Depth//Case_1//80\\\\20201001_202940_NE142400C_RAE01_1_S01_M0005-01MS_3.png'"
      ]
     },
     "execution_count": 5,
     "metadata": {},
     "output_type": "execute_result"
    }
   ],
   "source": [
    "lst_data.iloc[0][0]\n",
    "# SEM"
   ]
  },
  {
   "cell_type": "code",
   "execution_count": 6,
   "metadata": {},
   "outputs": [
    {
     "data": {
      "text/plain": [
       "'D://Data//3D_Metrology//simulation_data//SEM//Case_1//80\\\\20201001_202940_NE142400C_RAE01_1_S01_M0005-01MS_3_itr0.png'"
      ]
     },
     "execution_count": 6,
     "metadata": {},
     "output_type": "execute_result"
    }
   ],
   "source": [
    "lst_data.iloc[0][1]\n",
    "# DEPTH"
   ]
  },
  {
   "cell_type": "code",
   "execution_count": 7,
   "metadata": {},
   "outputs": [
    {
     "data": {
      "text/plain": [
       "'D://Data//3D_Metrology//simulation_data//Depth//Case_1//80\\\\20201001_202940_NE142400C_RAE01_1_S01_M0005-01MS_3.png'"
      ]
     },
     "execution_count": 7,
     "metadata": {},
     "output_type": "execute_result"
    }
   ],
   "source": [
    "lst_data.iloc[1][0]\n",
    "# SEM"
   ]
  },
  {
   "cell_type": "code",
   "execution_count": 8,
   "metadata": {},
   "outputs": [
    {
     "data": {
      "text/plain": [
       "'D://Data//3D_Metrology//simulation_data//SEM//Case_3//80\\\\20201001_202940_NE142400C_RAE01_1_S01_M0005-01MS_3_itr0.png'"
      ]
     },
     "execution_count": 8,
     "metadata": {},
     "output_type": "execute_result"
    }
   ],
   "source": [
    "lst_data.iloc[1][1]\n",
    "# DEPTH"
   ]
  },
  {
   "cell_type": "code",
   "execution_count": 16,
   "metadata": {},
   "outputs": [
    {
     "data": {
      "text/plain": [
       "'D://Data//3D_Metrology//simulation_data//Depth//Case_1//80\\\\20201001_202940_NE142400C_RAE01_1_S01_M0006-01MS_3.png'"
      ]
     },
     "execution_count": 16,
     "metadata": {},
     "output_type": "execute_result"
    }
   ],
   "source": [
    "lst_data.iloc[2][0]\n",
    "# SEM"
   ]
  },
  {
   "cell_type": "code",
   "execution_count": 17,
   "metadata": {},
   "outputs": [
    {
     "data": {
      "text/plain": [
       "'D://Data//3D_Metrology//simulation_data//SEM//Case_3//80\\\\20201001_202940_NE142400C_RAE01_1_S01_M0005-01MS_3_itr1.png'"
      ]
     },
     "execution_count": 17,
     "metadata": {},
     "output_type": "execute_result"
    }
   ],
   "source": [
    "lst_data.iloc[2][1]\n",
    "# SEM"
   ]
  },
  {
   "cell_type": "code",
   "execution_count": 19,
   "metadata": {},
   "outputs": [
    {
     "data": {
      "text/plain": [
       "'D://Data//3D_Metrology//simulation_data//Depth//Case_1//80\\\\20201001_202940_NE142400C_RAE01_1_S01_M0006-01MS_3.png'"
      ]
     },
     "execution_count": 19,
     "metadata": {},
     "output_type": "execute_result"
    }
   ],
   "source": [
    "lst_data.iloc[3][0]\n",
    "# SEM"
   ]
  },
  {
   "cell_type": "code",
   "execution_count": 18,
   "metadata": {},
   "outputs": [
    {
     "data": {
      "text/plain": [
       "'D://Data//3D_Metrology//simulation_data//SEM//Case_1//80\\\\20201001_202940_NE142400C_RAE01_1_S01_M0005-01MS_3_itr1.png'"
      ]
     },
     "execution_count": 18,
     "metadata": {},
     "output_type": "execute_result"
    }
   ],
   "source": [
    "lst_data.iloc[3][1]\n",
    "# SEM"
   ]
  },
  {
   "cell_type": "code",
   "execution_count": 9,
   "metadata": {},
   "outputs": [
    {
     "data": {
      "text/plain": [
       "(72, 48)"
      ]
     },
     "execution_count": 9,
     "metadata": {},
     "output_type": "execute_result"
    }
   ],
   "source": [
    "plt.imread(lst_data.iloc[0][1]).shape"
   ]
  },
  {
   "cell_type": "code",
   "execution_count": 10,
   "metadata": {},
   "outputs": [
    {
     "data": {
      "text/plain": [
       "(72, 48)"
      ]
     },
     "execution_count": 10,
     "metadata": {},
     "output_type": "execute_result"
    }
   ],
   "source": [
    "plt.imread(lst_data.iloc[0][0]).shape"
   ]
  },
  {
   "cell_type": "code",
   "execution_count": 11,
   "metadata": {},
   "outputs": [
    {
     "data": {
      "text/plain": [
       "(173304, 2)"
      ]
     },
     "execution_count": 11,
     "metadata": {},
     "output_type": "execute_result"
    }
   ],
   "source": [
    "lst_data.shape"
   ]
  },
  {
   "cell_type": "code",
   "execution_count": 12,
   "metadata": {},
   "outputs": [
    {
     "data": {
      "text/plain": [
       "17330"
      ]
     },
     "execution_count": 12,
     "metadata": {},
     "output_type": "execute_result"
    }
   ],
   "source": [
    "int(lst_data.shape[0]*0.1)"
   ]
  },
  {
   "cell_type": "code",
   "execution_count": 13,
   "metadata": {},
   "outputs": [
    {
     "data": {
      "text/plain": [
       "Int64Index([ 60488,  29760,  11514,  37191,  37322,  85518,  34462,  12041,\n",
       "             35551,  53859,\n",
       "            ...\n",
       "            159572, 154913,  77607, 165806,  72559, 138717, 141094,  45616,\n",
       "            153607, 162882],\n",
       "           dtype='int64', length=17330)"
      ]
     },
     "execution_count": 13,
     "metadata": {},
     "output_type": "execute_result"
    }
   ],
   "source": [
    "val = lst_data.sample(n=int(lst_data.shape[0]*0.1), random_state=42)\n",
    "val.index"
   ]
  },
  {
   "cell_type": "code",
   "execution_count": 14,
   "metadata": {},
   "outputs": [
    {
     "data": {
      "text/html": [
       "<div>\n",
       "<style scoped>\n",
       "    .dataframe tbody tr th:only-of-type {\n",
       "        vertical-align: middle;\n",
       "    }\n",
       "\n",
       "    .dataframe tbody tr th {\n",
       "        vertical-align: top;\n",
       "    }\n",
       "\n",
       "    .dataframe thead th {\n",
       "        text-align: right;\n",
       "    }\n",
       "</style>\n",
       "<table border=\"1\" class=\"dataframe\">\n",
       "  <thead>\n",
       "    <tr style=\"text-align: right;\">\n",
       "      <th></th>\n",
       "      <th>Depth</th>\n",
       "      <th>SEM</th>\n",
       "    </tr>\n",
       "  </thead>\n",
       "  <tbody>\n",
       "    <tr>\n",
       "      <th>0</th>\n",
       "      <td>D://Data//3D_Metrology//simulation_data//Depth...</td>\n",
       "      <td>D://Data//3D_Metrology//simulation_data//SEM//...</td>\n",
       "    </tr>\n",
       "    <tr>\n",
       "      <th>1</th>\n",
       "      <td>D://Data//3D_Metrology//simulation_data//Depth...</td>\n",
       "      <td>D://Data//3D_Metrology//simulation_data//SEM//...</td>\n",
       "    </tr>\n",
       "    <tr>\n",
       "      <th>2</th>\n",
       "      <td>D://Data//3D_Metrology//simulation_data//Depth...</td>\n",
       "      <td>D://Data//3D_Metrology//simulation_data//SEM//...</td>\n",
       "    </tr>\n",
       "    <tr>\n",
       "      <th>3</th>\n",
       "      <td>D://Data//3D_Metrology//simulation_data//Depth...</td>\n",
       "      <td>D://Data//3D_Metrology//simulation_data//SEM//...</td>\n",
       "    </tr>\n",
       "    <tr>\n",
       "      <th>4</th>\n",
       "      <td>D://Data//3D_Metrology//simulation_data//Depth...</td>\n",
       "      <td>D://Data//3D_Metrology//simulation_data//SEM//...</td>\n",
       "    </tr>\n",
       "    <tr>\n",
       "      <th>...</th>\n",
       "      <td>...</td>\n",
       "      <td>...</td>\n",
       "    </tr>\n",
       "    <tr>\n",
       "      <th>173296</th>\n",
       "      <td>D://Data//3D_Metrology//simulation_data//Depth...</td>\n",
       "      <td>D://Data//3D_Metrology//simulation_data//SEM//...</td>\n",
       "    </tr>\n",
       "    <tr>\n",
       "      <th>173297</th>\n",
       "      <td>D://Data//3D_Metrology//simulation_data//Depth...</td>\n",
       "      <td>D://Data//3D_Metrology//simulation_data//SEM//...</td>\n",
       "    </tr>\n",
       "    <tr>\n",
       "      <th>173299</th>\n",
       "      <td>D://Data//3D_Metrology//simulation_data//Depth...</td>\n",
       "      <td>D://Data//3D_Metrology//simulation_data//SEM//...</td>\n",
       "    </tr>\n",
       "    <tr>\n",
       "      <th>173300</th>\n",
       "      <td>D://Data//3D_Metrology//simulation_data//Depth...</td>\n",
       "      <td>D://Data//3D_Metrology//simulation_data//SEM//...</td>\n",
       "    </tr>\n",
       "    <tr>\n",
       "      <th>173302</th>\n",
       "      <td>D://Data//3D_Metrology//simulation_data//Depth...</td>\n",
       "      <td>D://Data//3D_Metrology//simulation_data//SEM//...</td>\n",
       "    </tr>\n",
       "  </tbody>\n",
       "</table>\n",
       "<p>155974 rows × 2 columns</p>\n",
       "</div>"
      ],
      "text/plain": [
       "                                                    Depth  \\\n",
       "0       D://Data//3D_Metrology//simulation_data//Depth...   \n",
       "1       D://Data//3D_Metrology//simulation_data//Depth...   \n",
       "2       D://Data//3D_Metrology//simulation_data//Depth...   \n",
       "3       D://Data//3D_Metrology//simulation_data//Depth...   \n",
       "4       D://Data//3D_Metrology//simulation_data//Depth...   \n",
       "...                                                   ...   \n",
       "173296  D://Data//3D_Metrology//simulation_data//Depth...   \n",
       "173297  D://Data//3D_Metrology//simulation_data//Depth...   \n",
       "173299  D://Data//3D_Metrology//simulation_data//Depth...   \n",
       "173300  D://Data//3D_Metrology//simulation_data//Depth...   \n",
       "173302  D://Data//3D_Metrology//simulation_data//Depth...   \n",
       "\n",
       "                                                      SEM  \n",
       "0       D://Data//3D_Metrology//simulation_data//SEM//...  \n",
       "1       D://Data//3D_Metrology//simulation_data//SEM//...  \n",
       "2       D://Data//3D_Metrology//simulation_data//SEM//...  \n",
       "3       D://Data//3D_Metrology//simulation_data//SEM//...  \n",
       "4       D://Data//3D_Metrology//simulation_data//SEM//...  \n",
       "...                                                   ...  \n",
       "173296  D://Data//3D_Metrology//simulation_data//SEM//...  \n",
       "173297  D://Data//3D_Metrology//simulation_data//SEM//...  \n",
       "173299  D://Data//3D_Metrology//simulation_data//SEM//...  \n",
       "173300  D://Data//3D_Metrology//simulation_data//SEM//...  \n",
       "173302  D://Data//3D_Metrology//simulation_data//SEM//...  \n",
       "\n",
       "[155974 rows x 2 columns]"
      ]
     },
     "execution_count": 14,
     "metadata": {},
     "output_type": "execute_result"
    }
   ],
   "source": [
    "train = lst_data.drop(val.index)\n",
    "train"
   ]
  },
  {
   "cell_type": "code",
   "execution_count": 15,
   "metadata": {},
   "outputs": [
    {
     "data": {
      "text/plain": [
       "173304"
      ]
     },
     "execution_count": 15,
     "metadata": {},
     "output_type": "execute_result"
    }
   ],
   "source": [
    "len(lst_data)"
   ]
  }
 ],
 "metadata": {
  "kernelspec": {
   "display_name": "Python 3.7.13 ('pytorch')",
   "language": "python",
   "name": "python3"
  },
  "language_info": {
   "codemirror_mode": {
    "name": "ipython",
    "version": 3
   },
   "file_extension": ".py",
   "mimetype": "text/x-python",
   "name": "python",
   "nbconvert_exporter": "python",
   "pygments_lexer": "ipython3",
   "version": "3.7.13"
  },
  "orig_nbformat": 4,
  "vscode": {
   "interpreter": {
    "hash": "61d7d72412218704c5ba1799d65c7a83b08e24a9ca7847de9a479f6f426633e7"
   }
  }
 },
 "nbformat": 4,
 "nbformat_minor": 2
}

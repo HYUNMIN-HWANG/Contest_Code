{
 "cells": [
  {
   "cell_type": "code",
   "execution_count": 2,
   "metadata": {},
   "outputs": [
    {
     "name": "stderr",
     "output_type": "stream",
     "text": [
      "c:\\Users\\user\\anaconda3\\envs\\pytorch\\lib\\site-packages\\tqdm\\auto.py:22: TqdmWarning: IProgress not found. Please update jupyter and ipywidgets. See https://ipywidgets.readthedocs.io/en/stable/user_install.html\n",
      "  from .autonotebook import tqdm as notebook_tqdm\n"
     ]
    }
   ],
   "source": [
    "import os\n",
    "import numpy as np\n",
    "import torch\n",
    "from skimage import transform\n",
    "import matplotlib.pyplot as plt\n",
    "import pandas as pd\n",
    "import glob"
   ]
  },
  {
   "cell_type": "code",
   "execution_count": 4,
   "metadata": {},
   "outputs": [],
   "source": [
    "train_dir = 'D://Data//3D_Metrology//train'\n",
    "lst_data = pd.read_csv(train_dir+\"//real_sim_sem_meta.csv\")"
   ]
  },
  {
   "cell_type": "code",
   "execution_count": 5,
   "metadata": {},
   "outputs": [
    {
     "data": {
      "text/html": [
       "<div>\n",
       "<style scoped>\n",
       "    .dataframe tbody tr th:only-of-type {\n",
       "        vertical-align: middle;\n",
       "    }\n",
       "\n",
       "    .dataframe tbody tr th {\n",
       "        vertical-align: top;\n",
       "    }\n",
       "\n",
       "    .dataframe thead th {\n",
       "        text-align: right;\n",
       "    }\n",
       "</style>\n",
       "<table border=\"1\" class=\"dataframe\">\n",
       "  <thead>\n",
       "    <tr style=\"text-align: right;\">\n",
       "      <th></th>\n",
       "      <th>SIM</th>\n",
       "      <th>REAL</th>\n",
       "    </tr>\n",
       "  </thead>\n",
       "  <tbody>\n",
       "    <tr>\n",
       "      <th>0</th>\n",
       "      <td>D://Data//3D_Metrology//simulation_data//SEM//...</td>\n",
       "      <td>D://Data//3D_Metrology//train/SEM//Depth_110\\s...</td>\n",
       "    </tr>\n",
       "    <tr>\n",
       "      <th>1</th>\n",
       "      <td>D://Data//3D_Metrology//simulation_data//SEM//...</td>\n",
       "      <td>D://Data//3D_Metrology//train/SEM//Depth_110\\s...</td>\n",
       "    </tr>\n",
       "    <tr>\n",
       "      <th>2</th>\n",
       "      <td>D://Data//3D_Metrology//simulation_data//SEM//...</td>\n",
       "      <td>D://Data//3D_Metrology//train/SEM//Depth_110\\s...</td>\n",
       "    </tr>\n",
       "    <tr>\n",
       "      <th>3</th>\n",
       "      <td>D://Data//3D_Metrology//simulation_data//SEM//...</td>\n",
       "      <td>D://Data//3D_Metrology//train/SEM//Depth_110\\s...</td>\n",
       "    </tr>\n",
       "    <tr>\n",
       "      <th>4</th>\n",
       "      <td>D://Data//3D_Metrology//simulation_data//SEM//...</td>\n",
       "      <td>D://Data//3D_Metrology//train/SEM//Depth_110\\s...</td>\n",
       "    </tr>\n",
       "    <tr>\n",
       "      <th>...</th>\n",
       "      <td>...</td>\n",
       "      <td>...</td>\n",
       "    </tr>\n",
       "    <tr>\n",
       "      <th>173299</th>\n",
       "      <td>D://Data//3D_Metrology//simulation_data//SEM//...</td>\n",
       "      <td>NaN</td>\n",
       "    </tr>\n",
       "    <tr>\n",
       "      <th>173300</th>\n",
       "      <td>D://Data//3D_Metrology//simulation_data//SEM//...</td>\n",
       "      <td>NaN</td>\n",
       "    </tr>\n",
       "    <tr>\n",
       "      <th>173301</th>\n",
       "      <td>D://Data//3D_Metrology//simulation_data//SEM//...</td>\n",
       "      <td>NaN</td>\n",
       "    </tr>\n",
       "    <tr>\n",
       "      <th>173302</th>\n",
       "      <td>D://Data//3D_Metrology//simulation_data//SEM//...</td>\n",
       "      <td>NaN</td>\n",
       "    </tr>\n",
       "    <tr>\n",
       "      <th>173303</th>\n",
       "      <td>D://Data//3D_Metrology//simulation_data//SEM//...</td>\n",
       "      <td>NaN</td>\n",
       "    </tr>\n",
       "  </tbody>\n",
       "</table>\n",
       "<p>173304 rows × 2 columns</p>\n",
       "</div>"
      ],
      "text/plain": [
       "                                                      SIM  \\\n",
       "0       D://Data//3D_Metrology//simulation_data//SEM//...   \n",
       "1       D://Data//3D_Metrology//simulation_data//SEM//...   \n",
       "2       D://Data//3D_Metrology//simulation_data//SEM//...   \n",
       "3       D://Data//3D_Metrology//simulation_data//SEM//...   \n",
       "4       D://Data//3D_Metrology//simulation_data//SEM//...   \n",
       "...                                                   ...   \n",
       "173299  D://Data//3D_Metrology//simulation_data//SEM//...   \n",
       "173300  D://Data//3D_Metrology//simulation_data//SEM//...   \n",
       "173301  D://Data//3D_Metrology//simulation_data//SEM//...   \n",
       "173302  D://Data//3D_Metrology//simulation_data//SEM//...   \n",
       "173303  D://Data//3D_Metrology//simulation_data//SEM//...   \n",
       "\n",
       "                                                     REAL  \n",
       "0       D://Data//3D_Metrology//train/SEM//Depth_110\\s...  \n",
       "1       D://Data//3D_Metrology//train/SEM//Depth_110\\s...  \n",
       "2       D://Data//3D_Metrology//train/SEM//Depth_110\\s...  \n",
       "3       D://Data//3D_Metrology//train/SEM//Depth_110\\s...  \n",
       "4       D://Data//3D_Metrology//train/SEM//Depth_110\\s...  \n",
       "...                                                   ...  \n",
       "173299                                                NaN  \n",
       "173300                                                NaN  \n",
       "173301                                                NaN  \n",
       "173302                                                NaN  \n",
       "173303                                                NaN  \n",
       "\n",
       "[173304 rows x 2 columns]"
      ]
     },
     "execution_count": 5,
     "metadata": {},
     "output_type": "execute_result"
    }
   ],
   "source": [
    "lst_data"
   ]
  },
  {
   "cell_type": "code",
   "execution_count": 7,
   "metadata": {},
   "outputs": [
    {
     "data": {
      "text/plain": [
       "'D://Data//3D_Metrology//simulation_data//SEM//Case_1//80\\\\20201001_202940_NE142400C_RAE01_1_S01_M0005-01MS_3_itr0.png'"
      ]
     },
     "execution_count": 7,
     "metadata": {},
     "output_type": "execute_result"
    }
   ],
   "source": [
    "lst_data.iloc[0][0]"
   ]
  },
  {
   "cell_type": "code",
   "execution_count": 8,
   "metadata": {},
   "outputs": [
    {
     "data": {
      "text/plain": [
       "'D://Data//3D_Metrology//simulation_data//SEM//Case_1//80\\\\20201001_202940_NE142400C_RAE01_1_S01_M0005-01MS_3_itr1.png'"
      ]
     },
     "execution_count": 8,
     "metadata": {},
     "output_type": "execute_result"
    }
   ],
   "source": [
    "lst_data.iloc[1][0]\n"
   ]
  },
  {
   "cell_type": "code",
   "execution_count": 9,
   "metadata": {},
   "outputs": [
    {
     "data": {
      "text/plain": [
       "'D://Data//3D_Metrology//simulation_data//SEM//Case_1//80\\\\20201001_202940_NE142400C_RAE01_1_S01_M0006-01MS_3_itr0.png'"
      ]
     },
     "execution_count": 9,
     "metadata": {},
     "output_type": "execute_result"
    }
   ],
   "source": [
    "lst_data.iloc[2][0]\n"
   ]
  },
  {
   "cell_type": "code",
   "execution_count": 10,
   "metadata": {},
   "outputs": [
    {
     "data": {
      "text/plain": [
       "'D://Data//3D_Metrology//train/SEM//Depth_110\\\\site_00000\\\\SEM_043510.png'"
      ]
     },
     "execution_count": 10,
     "metadata": {},
     "output_type": "execute_result"
    }
   ],
   "source": [
    "lst_data.iloc[0][1]"
   ]
  },
  {
   "cell_type": "code",
   "execution_count": 11,
   "metadata": {},
   "outputs": [
    {
     "data": {
      "text/plain": [
       "'D://Data//3D_Metrology//train/SEM//Depth_110\\\\site_00000\\\\SEM_043987.png'"
      ]
     },
     "execution_count": 11,
     "metadata": {},
     "output_type": "execute_result"
    }
   ],
   "source": [
    "lst_data.iloc[1][1]"
   ]
  },
  {
   "cell_type": "code",
   "execution_count": 13,
   "metadata": {},
   "outputs": [
    {
     "data": {
      "text/plain": [
       "'D://Data//3D_Metrology//train/SEM//Depth_110\\\\site_00000\\\\SEM_045397.png'"
      ]
     },
     "execution_count": 13,
     "metadata": {},
     "output_type": "execute_result"
    }
   ],
   "source": [
    "lst_data.iloc[2][1]"
   ]
  },
  {
   "cell_type": "code",
   "execution_count": 22,
   "metadata": {},
   "outputs": [
    {
     "ename": "AttributeError",
     "evalue": "'Series' object has no attribute 'summary'",
     "output_type": "error",
     "traceback": [
      "\u001b[1;31m---------------------------------------------------------------------------\u001b[0m",
      "\u001b[1;31mAttributeError\u001b[0m                            Traceback (most recent call last)",
      "\u001b[1;32m~\\AppData\\Local\\Temp\\ipykernel_21264\\16451217.py\u001b[0m in \u001b[0;36m<module>\u001b[1;34m\u001b[0m\n\u001b[1;32m----> 1\u001b[1;33m \u001b[0mlst_data\u001b[0m\u001b[1;33m[\u001b[0m\u001b[1;34m'REAL'\u001b[0m\u001b[1;33m]\u001b[0m\u001b[1;33m.\u001b[0m\u001b[0msummary\u001b[0m\u001b[1;33m(\u001b[0m\u001b[1;33m)\u001b[0m\u001b[1;33m\u001b[0m\u001b[1;33m\u001b[0m\u001b[0m\n\u001b[0m",
      "\u001b[1;32mc:\\Users\\user\\anaconda3\\envs\\pytorch\\lib\\site-packages\\pandas\\core\\generic.py\u001b[0m in \u001b[0;36m__getattr__\u001b[1;34m(self, name)\u001b[0m\n\u001b[0;32m   5485\u001b[0m         ):\n\u001b[0;32m   5486\u001b[0m             \u001b[1;32mreturn\u001b[0m \u001b[0mself\u001b[0m\u001b[1;33m[\u001b[0m\u001b[0mname\u001b[0m\u001b[1;33m]\u001b[0m\u001b[1;33m\u001b[0m\u001b[1;33m\u001b[0m\u001b[0m\n\u001b[1;32m-> 5487\u001b[1;33m         \u001b[1;32mreturn\u001b[0m \u001b[0mobject\u001b[0m\u001b[1;33m.\u001b[0m\u001b[0m__getattribute__\u001b[0m\u001b[1;33m(\u001b[0m\u001b[0mself\u001b[0m\u001b[1;33m,\u001b[0m \u001b[0mname\u001b[0m\u001b[1;33m)\u001b[0m\u001b[1;33m\u001b[0m\u001b[1;33m\u001b[0m\u001b[0m\n\u001b[0m\u001b[0;32m   5488\u001b[0m \u001b[1;33m\u001b[0m\u001b[0m\n\u001b[0;32m   5489\u001b[0m     \u001b[1;32mdef\u001b[0m \u001b[0m__setattr__\u001b[0m\u001b[1;33m(\u001b[0m\u001b[0mself\u001b[0m\u001b[1;33m,\u001b[0m \u001b[0mname\u001b[0m\u001b[1;33m:\u001b[0m \u001b[0mstr\u001b[0m\u001b[1;33m,\u001b[0m \u001b[0mvalue\u001b[0m\u001b[1;33m)\u001b[0m \u001b[1;33m->\u001b[0m \u001b[1;32mNone\u001b[0m\u001b[1;33m:\u001b[0m\u001b[1;33m\u001b[0m\u001b[1;33m\u001b[0m\u001b[0m\n",
      "\u001b[1;31mAttributeError\u001b[0m: 'Series' object has no attribute 'summary'"
     ]
    }
   ],
   "source": [
    "lst_data['REAL']"
   ]
  },
  {
   "cell_type": "code",
   "execution_count": 23,
   "metadata": {},
   "outputs": [
    {
     "data": {
      "text/plain": [
       "SIM          0\n",
       "REAL    112640\n",
       "dtype: int64"
      ]
     },
     "execution_count": 23,
     "metadata": {},
     "output_type": "execute_result"
    }
   ],
   "source": [
    "lst_data.isnull().sum()"
   ]
  },
  {
   "cell_type": "code",
   "execution_count": 25,
   "metadata": {},
   "outputs": [
    {
     "data": {
      "text/plain": [
       "0        D://Data//3D_Metrology//train/SEM//Depth_110\\s...\n",
       "1        D://Data//3D_Metrology//train/SEM//Depth_110\\s...\n",
       "2        D://Data//3D_Metrology//train/SEM//Depth_110\\s...\n",
       "3        D://Data//3D_Metrology//train/SEM//Depth_110\\s...\n",
       "4        D://Data//3D_Metrology//train/SEM//Depth_110\\s...\n",
       "                               ...                        \n",
       "60659    D://Data//3D_Metrology//train/SEM//Depth_140\\s...\n",
       "60660    D://Data//3D_Metrology//train/SEM//Depth_140\\s...\n",
       "60661    D://Data//3D_Metrology//train/SEM//Depth_140\\s...\n",
       "60662    D://Data//3D_Metrology//train/SEM//Depth_140\\s...\n",
       "60663    D://Data//3D_Metrology//train/SEM//Depth_140\\s...\n",
       "Name: REAL, Length: 60664, dtype: object"
      ]
     },
     "execution_count": 25,
     "metadata": {},
     "output_type": "execute_result"
    }
   ],
   "source": [
    "real = lst_data['REAL']\n",
    "real.dropna()"
   ]
  },
  {
   "cell_type": "code",
   "execution_count": 15,
   "metadata": {},
   "outputs": [
    {
     "data": {
      "text/plain": [
       "'D://Data//3D_Metrology//train/SEM//Depth_110\\\\site_00000\\\\SEM_043510.png'"
      ]
     },
     "execution_count": 15,
     "metadata": {},
     "output_type": "execute_result"
    }
   ],
   "source": [
    "lst_data['REAL'][0]"
   ]
  },
  {
   "cell_type": "code",
   "execution_count": 16,
   "metadata": {},
   "outputs": [
    {
     "data": {
      "text/plain": [
       "'D://Data//3D_Metrology//simulation_data//SEM//Case_1//80\\\\20201001_202940_NE142400C_RAE01_1_S01_M0005-01MS_3_itr0.png'"
      ]
     },
     "execution_count": 16,
     "metadata": {},
     "output_type": "execute_result"
    }
   ],
   "source": [
    "lst_data['SIM'][0]"
   ]
  },
  {
   "cell_type": "code",
   "execution_count": 20,
   "metadata": {},
   "outputs": [
    {
     "data": {
      "text/plain": [
       "(72, 48)"
      ]
     },
     "execution_count": 20,
     "metadata": {},
     "output_type": "execute_result"
    }
   ],
   "source": [
    "a = plt.imread(lst_data['REAL'][0])\n",
    "a.shape"
   ]
  },
  {
   "cell_type": "markdown",
   "metadata": {},
   "source": [
    "---"
   ]
  },
  {
   "cell_type": "code",
   "execution_count": 5,
   "metadata": {},
   "outputs": [],
   "source": [
    "sim_sem_dir = \"D:\\\\Data\\\\3D_Metrology\\\\SEM_cyclegan\\\\log_result\\\\test\\\\png\"\n",
    "lst_data = pd.read_csv(sim_sem_dir+\"//test_sim_sem_meta.csv\")"
   ]
  },
  {
   "cell_type": "code",
   "execution_count": 6,
   "metadata": {},
   "outputs": [
    {
     "data": {
      "text/html": [
       "<div>\n",
       "<style scoped>\n",
       "    .dataframe tbody tr th:only-of-type {\n",
       "        vertical-align: middle;\n",
       "    }\n",
       "\n",
       "    .dataframe tbody tr th {\n",
       "        vertical-align: top;\n",
       "    }\n",
       "\n",
       "    .dataframe thead th {\n",
       "        text-align: right;\n",
       "    }\n",
       "</style>\n",
       "<table border=\"1\" class=\"dataframe\">\n",
       "  <thead>\n",
       "    <tr style=\"text-align: right;\">\n",
       "      <th></th>\n",
       "      <th>SEM</th>\n",
       "    </tr>\n",
       "  </thead>\n",
       "  <tbody>\n",
       "    <tr>\n",
       "      <th>0</th>\n",
       "      <td>D:\\Data\\3D_Metrology\\SEM_cyclegan\\log_result\\t...</td>\n",
       "    </tr>\n",
       "    <tr>\n",
       "      <th>1</th>\n",
       "      <td>D:\\Data\\3D_Metrology\\SEM_cyclegan\\log_result\\t...</td>\n",
       "    </tr>\n",
       "    <tr>\n",
       "      <th>2</th>\n",
       "      <td>D:\\Data\\3D_Metrology\\SEM_cyclegan\\log_result\\t...</td>\n",
       "    </tr>\n",
       "    <tr>\n",
       "      <th>3</th>\n",
       "      <td>D:\\Data\\3D_Metrology\\SEM_cyclegan\\log_result\\t...</td>\n",
       "    </tr>\n",
       "    <tr>\n",
       "      <th>4</th>\n",
       "      <td>D:\\Data\\3D_Metrology\\SEM_cyclegan\\log_result\\t...</td>\n",
       "    </tr>\n",
       "  </tbody>\n",
       "</table>\n",
       "</div>"
      ],
      "text/plain": [
       "                                                 SEM\n",
       "0  D:\\Data\\3D_Metrology\\SEM_cyclegan\\log_result\\t...\n",
       "1  D:\\Data\\3D_Metrology\\SEM_cyclegan\\log_result\\t...\n",
       "2  D:\\Data\\3D_Metrology\\SEM_cyclegan\\log_result\\t...\n",
       "3  D:\\Data\\3D_Metrology\\SEM_cyclegan\\log_result\\t...\n",
       "4  D:\\Data\\3D_Metrology\\SEM_cyclegan\\log_result\\t..."
      ]
     },
     "execution_count": 6,
     "metadata": {},
     "output_type": "execute_result"
    }
   ],
   "source": [
    "lst_data.head()"
   ]
  },
  {
   "cell_type": "code",
   "execution_count": 7,
   "metadata": {},
   "outputs": [
    {
     "data": {
      "text/plain": [
       "25988"
      ]
     },
     "execution_count": 7,
     "metadata": {},
     "output_type": "execute_result"
    }
   ],
   "source": [
    "len(lst_data)"
   ]
  }
 ],
 "metadata": {
  "kernelspec": {
   "display_name": "Python 3.7.13 ('pytorch')",
   "language": "python",
   "name": "python3"
  },
  "language_info": {
   "codemirror_mode": {
    "name": "ipython",
    "version": 3
   },
   "file_extension": ".py",
   "mimetype": "text/x-python",
   "name": "python",
   "nbconvert_exporter": "python",
   "pygments_lexer": "ipython3",
   "version": "3.7.13"
  },
  "orig_nbformat": 4,
  "vscode": {
   "interpreter": {
    "hash": "61d7d72412218704c5ba1799d65c7a83b08e24a9ca7847de9a479f6f426633e7"
   }
  }
 },
 "nbformat": 4,
 "nbformat_minor": 2
}
